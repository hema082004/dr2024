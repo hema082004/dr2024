{
  "nbformat": 4,
  "nbformat_minor": 0,
  "metadata": {
    "colab": {
      "provenance": [],
      "authorship_tag": "ABX9TyMsvLfuAA8eIwBuusQr72Nu",
      "include_colab_link": true
    },
    "kernelspec": {
      "name": "python3",
      "display_name": "Python 3"
    },
    "language_info": {
      "name": "python"
    }
  },
  "cells": [
    {
      "cell_type": "markdown",
      "metadata": {
        "id": "view-in-github",
        "colab_type": "text"
      },
      "source": [
        "<a href=\"https://colab.research.google.com/github/hema082004/dr2024/blob/master/Dlexp1.ipynb\" target=\"_parent\"><img src=\"https://colab.research.google.com/assets/colab-badge.svg\" alt=\"Open In Colab\"/></a>"
      ]
    },
    {
      "cell_type": "code",
      "execution_count": 2,
      "metadata": {
        "colab": {
          "base_uri": "https://localhost:8080/"
        },
        "id": "mkwxzFb-Epd-",
        "outputId": "09e40a67-5592-4492-9545-04cd17f20979"
      },
      "outputs": [
        {
          "output_type": "stream",
          "name": "stdout",
          "text": [
            "Loading the MNIST dataset...\n",
            "Downloading data from https://storage.googleapis.com/tensorflow/tf-keras-datasets/mnist.npz\n",
            "\u001b[1m11490434/11490434\u001b[0m \u001b[32m━━━━━━━━━━━━━━━━━━━━\u001b[0m\u001b[37m\u001b[0m \u001b[1m0s\u001b[0m 0us/step\n",
            "Training data shape: (60000, 28, 28), Training labels shape: (60000,)\n",
            "Testing data shape: (10000, 28, 28), Testing labels shape: (10000,)\n",
            "\n",
            "Reshaping the input data...\n",
            "Reshaped training data shape: (60000, 784)\n",
            "Reshaped testing data shape: (10000, 784)\n",
            "\n",
            "Normalizing the input data...\n",
            "Normalization complete. Pixel values are now between 0 and 1.\n",
            "\n",
            "One-hot encoding the target variables...\n",
            "Encoded training labels shape: (60000, 10)\n",
            "Encoded testing labels shape: (10000, 10)\n",
            "\n",
            "Defining the neural network model...\n"
          ]
        },
        {
          "output_type": "stream",
          "name": "stderr",
          "text": [
            "/usr/local/lib/python3.11/dist-packages/keras/src/layers/core/dense.py:87: UserWarning: Do not pass an `input_shape`/`input_dim` argument to a layer. When using Sequential models, prefer using an `Input(shape)` object as the first layer in the model instead.\n",
            "  super().__init__(activity_regularizer=activity_regularizer, **kwargs)\n"
          ]
        },
        {
          "output_type": "stream",
          "name": "stdout",
          "text": [
            "Model architecture defined.\n",
            "\n",
            "Compiling the model...\n",
            "Model compiled with categorical cross-entropy loss and Adam optimizer.\n",
            "\n",
            "Starting training...\n",
            "Epoch 1/10\n",
            "\u001b[1m469/469\u001b[0m \u001b[32m━━━━━━━━━━━━━━━━━━━━\u001b[0m\u001b[37m\u001b[0m \u001b[1m11s\u001b[0m 19ms/step - accuracy: 0.8657 - loss: 0.4504 - val_accuracy: 0.9684 - val_loss: 0.1038\n",
            "Epoch 2/10\n",
            "\u001b[1m469/469\u001b[0m \u001b[32m━━━━━━━━━━━━━━━━━━━━\u001b[0m\u001b[37m\u001b[0m \u001b[1m9s\u001b[0m 19ms/step - accuracy: 0.9688 - loss: 0.1047 - val_accuracy: 0.9752 - val_loss: 0.0761\n",
            "Epoch 3/10\n",
            "\u001b[1m469/469\u001b[0m \u001b[32m━━━━━━━━━━━━━━━━━━━━\u001b[0m\u001b[37m\u001b[0m \u001b[1m9s\u001b[0m 16ms/step - accuracy: 0.9779 - loss: 0.0698 - val_accuracy: 0.9778 - val_loss: 0.0714\n",
            "Epoch 4/10\n",
            "\u001b[1m469/469\u001b[0m \u001b[32m━━━━━━━━━━━━━━━━━━━━\u001b[0m\u001b[37m\u001b[0m \u001b[1m10s\u001b[0m 16ms/step - accuracy: 0.9827 - loss: 0.0540 - val_accuracy: 0.9787 - val_loss: 0.0663\n",
            "Epoch 5/10\n",
            "\u001b[1m469/469\u001b[0m \u001b[32m━━━━━━━━━━━━━━━━━━━━\u001b[0m\u001b[37m\u001b[0m \u001b[1m11s\u001b[0m 18ms/step - accuracy: 0.9857 - loss: 0.0432 - val_accuracy: 0.9820 - val_loss: 0.0642\n",
            "Epoch 6/10\n",
            "\u001b[1m469/469\u001b[0m \u001b[32m━━━━━━━━━━━━━━━━━━━━\u001b[0m\u001b[37m\u001b[0m \u001b[1m10s\u001b[0m 19ms/step - accuracy: 0.9871 - loss: 0.0379 - val_accuracy: 0.9790 - val_loss: 0.0708\n",
            "Epoch 7/10\n",
            "\u001b[1m469/469\u001b[0m \u001b[32m━━━━━━━━━━━━━━━━━━━━\u001b[0m\u001b[37m\u001b[0m \u001b[1m7s\u001b[0m 16ms/step - accuracy: 0.9888 - loss: 0.0323 - val_accuracy: 0.9811 - val_loss: 0.0646\n",
            "Epoch 8/10\n",
            "\u001b[1m469/469\u001b[0m \u001b[32m━━━━━━━━━━━━━━━━━━━━\u001b[0m\u001b[37m\u001b[0m \u001b[1m10s\u001b[0m 16ms/step - accuracy: 0.9897 - loss: 0.0310 - val_accuracy: 0.9824 - val_loss: 0.0710\n",
            "Epoch 9/10\n",
            "\u001b[1m469/469\u001b[0m \u001b[32m━━━━━━━━━━━━━━━━━━━━\u001b[0m\u001b[37m\u001b[0m \u001b[1m9s\u001b[0m 19ms/step - accuracy: 0.9922 - loss: 0.0228 - val_accuracy: 0.9818 - val_loss: 0.0666\n",
            "Epoch 10/10\n",
            "\u001b[1m469/469\u001b[0m \u001b[32m━━━━━━━━━━━━━━━━━━━━\u001b[0m\u001b[37m\u001b[0m \u001b[1m8s\u001b[0m 16ms/step - accuracy: 0.9925 - loss: 0.0222 - val_accuracy: 0.9810 - val_loss: 0.0777\n",
            "Training complete.\n",
            "\n",
            "Evaluating the model on test data...\n",
            "Test Accuracy: 98.10%\n",
            "\n",
            "Training history:\n",
            "Training accuracy: 0.99\n",
            "Validation accuracy: 0.98\n"
          ]
        }
      ],
      "source": [
        "# Import necessary libraries\n",
        "import numpy as np\n",
        "from tensorflow.keras.datasets import mnist  # Load MNIST dataset\n",
        "from tensorflow.keras.models import Sequential  # Define a sequential neural network\n",
        "from tensorflow.keras.layers import Dense, Dropout  # Add dense and dropout layers\n",
        "from tensorflow.keras.utils import to_categorical  # One-hot encoding of labels\n",
        "# Step 1: Load the MNIST dataset\n",
        "print(\"Loading the MNIST dataset...\")\n",
        "# The dataset contains grayscale images of handwritten digits (28x28 pixels) and corresponding labels\n",
        "(X_train, y_train), (X_test, y_test) = mnist.load_data()\n",
        "print(f\"Training data shape: {X_train.shape}, Training labels shape: {y_train.shape}\")\n",
        "print(f\"Testing data shape: {X_test.shape}, Testing labels shape: {y_test.shape}\")\n",
        "# Step 2: Reshape input data\n",
        "print(\"\\nReshaping the input data...\")\n",
        "# Reshape images from 28x28 pixels into 1D arrays of size 784\n",
        "X_train = X_train.reshape(X_train.shape[0], 28*28)\n",
        "X_test = X_test.reshape(X_test.shape[0], 28*28)\n",
        "print(f\"Reshaped training data shape: {X_train.shape}\")\n",
        "print(f\"Reshaped testing data shape: {X_test.shape}\")\n",
        "# Step 3: Normalize input data\n",
        "print(\"\\nNormalizing the input data...\")\n",
        "# Normalize pixel values to the range 0-1 by dividing by 255\n",
        "X_train = X_train / 255.0\n",
        "X_test = X_test / 255.0\n",
        "print(\"Normalization complete. Pixel values are now between 0 and 1.\")\n",
        "# Step 4: One-hot encode target variables\n",
        "print(\"\\nOne-hot encoding the target variables...\")\n",
        "# Convert integer labels (0-9) into one-hot encoded vectors\n",
        "y_train = to_categorical(y_train)\n",
        "y_test = to_categorical(y_test)\n",
        "print(f\"Encoded training labels shape: {y_train.shape}\")\n",
        "print(f\"Encoded testing labels shape: {y_test.shape}\")\n",
        "# Step 5: Define the MLP (Multi-Layer Perceptron) model\n",
        "print(\"\\nDefining the neural network model...\")\n",
        "# Create a Sequential model\n",
        "model = Sequential()\n",
        "# Add the first hidden layer with 512 units and ReLU activation\n",
        "model.add(Dense(512, input_shape=(784,), activation='relu'))\n",
        "# Add a dropout layer to reduce overfitting\n",
        "model.add(Dropout(0.2))\n",
        "# Add a second hidden layer with 512 units and ReLU activation\n",
        "model.add(Dense(512, activation='relu'))\n",
        "# Add another dropout layer\n",
        "model.add(Dropout(0.2))\n",
        "# Add the output layer with 10 units (for 10 classes) and softmax activation\n",
        "model.add(Dense(10, activation='softmax'))\n",
        "print(\"Model architecture defined.\")\n",
        "# Step 6: Compile the model\n",
        "print(\"\\nCompiling the model...\")\n",
        "# Compile the model with categorical cross-entropy loss, Adam optimizer, and accuracy metric\n",
        "model.compile(loss='categorical_crossentropy', optimizer='adam', metrics=['accuracy'])\n",
        "print(\"Model compiled with categorical cross-entropy loss and Adam optimizer.\")\n",
        "# Step 7: Train the model\n",
        "print(\"\\nStarting training...\")\n",
        "# Train the model on the training data, using the test data for validation\n",
        "# Set the number of epochs to 10 and batch size to 128\n",
        "history = model.fit(X_train, y_train, validation_data=(X_test, y_test), epochs=10, batch_size=128,\n",
        "verbose=1)\n",
        "print(\"Training complete.\")\n",
        "# Step 8: Evaluate the model on test data\n",
        "print(\"\\nEvaluating the model on test data...\")\n",
        "# Evaluate the model's performance on the test data\n",
        "scores = model.evaluate(X_test, y_test, verbose=0)\n",
        "# Print the test accuracy\n",
        "print(f\"Test Accuracy: {scores[1] * 100:.2f}%\")\n",
        "# Additional: Display training history\n",
        "print(\"\\nTraining history:\")\n",
        "# Print the final training accuracy\n",
        "print(f\"Training accuracy: {history.history['accuracy'][-1]:.2f}\")\n",
        "# Print the final validation accuracy\n",
        "print(f\"Validation accuracy: {history.history['val_accuracy'][-1]:.2f}\")"
      ]
    }
  ]
}