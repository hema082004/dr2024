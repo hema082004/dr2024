{
  "nbformat": 4,
  "nbformat_minor": 0,
  "metadata": {
    "colab": {
      "provenance": [],
      "authorship_tag": "ABX9TyNqpVzK7z5UNVVZFMdn4s32",
      "include_colab_link": true
    },
    "kernelspec": {
      "name": "python3",
      "display_name": "Python 3"
    },
    "language_info": {
      "name": "python"
    }
  },
  "cells": [
    {
      "cell_type": "markdown",
      "metadata": {
        "id": "view-in-github",
        "colab_type": "text"
      },
      "source": [
        "<a href=\"https://colab.research.google.com/github/hema082004/dr2024/blob/master/hello.ipynb\" target=\"_parent\"><img src=\"https://colab.research.google.com/assets/colab-badge.svg\" alt=\"Open In Colab\"/></a>"
      ]
    },
    {
      "cell_type": "markdown",
      "source": [],
      "metadata": {
        "id": "WK0qfEVEWncP"
      }
    },
    {
      "cell_type": "code",
      "source": [
        "import tensorflow as tf\n",
        "import tensorflow_datasets as tfds\n",
        "import numpy as np\n",
        "import matplotlib.pyplot as plt\n",
        "# Load dataset from TensorFlow Datasets (No manual download required)\n",
        "dataset_name = \"cats_vs_dogs\"\n",
        "dataset, info = tfds.load(dataset_name, as_supervised=True, with_info=True)\n",
        "\n",
        "# Shuffle dataset and split into training and validation sets\n",
        "BUFFER_SIZE = 25000\n",
        "BATCH_SIZE = 32\n",
        "train_data = dataset['train'].shuffle(BUFFER_SIZE).take(20000)  # First 20,000 for training\n",
        "val_data = dataset['train'].shuffle(BUFFER_SIZE).skip(20000).take(5000)  # Next 5,000 for validation\n",
        "\n",
        "# Function to preprocess images (resize, normalize)\n",
        "def preprocess(image, label):\n",
        "    image = tf.image.resize(image, (224, 224))  # Resize to VGG16 expected size\n",
        "    image = image / 255.0  # Normalize to [0,1]\n",
        "    return image, label\n",
        "\n",
        "# Apply preprocessing and batching\n",
        "train_data = train_data.map(preprocess).batch(BATCH_SIZE).shuffle(1000)\n",
        "val_data = val_data.map(preprocess).batch(BATCH_SIZE)\n",
        "# Load Pre-trained VGG16 Model (without top layers)\n",
        "base_model = tf.keras.applications.VGG16(input_shape=(224, 224, 3),\n",
        "                                         include_top=False, weights='imagenet')\n",
        "\n",
        "# Freeze the base model (so pre-trained weights are not changed)\n",
        "base_model.trainable = False\n",
        "\n",
        "# Add custom classifier on top\n",
        "model = tf.keras.Sequential([\n",
        "    base_model,\n",
        "    tf.keras.layers.Flatten(),\n",
        "    tf.keras.layers.Dense(256, activation='relu'),\n",
        "    tf.keras.layers.Dropout(0.5),\n",
        "    tf.keras.layers.Dense(1, activation='sigmoid')  # Binary classification\n",
        "])\n",
        "# Compile Model\n",
        "model.compile(optimizer='adam', loss='binary_crossentropy', metrics=['accuracy'])\n",
        "\n",
        "# Train Model\n",
        "history = model.fit(train_data, validation_data=val_data, epochs=5)\n",
        "# Evaluate Model\n",
        "loss, acc = model.evaluate(val_data)\n",
        "print(f\"\\nValidation Accuracy: {acc * 100:.2f}%\")\n",
        "\n",
        "# Function to display a predicted image\n",
        "def show_prediction():\n",
        "    image_batch, label_batch = next(iter(val_data))  # Get a batch\n",
        "    img = image_batch[0].numpy()  # Convert tensor to numpy array\n",
        "    true_label = label_batch[0].numpy()\n",
        "\n",
        "    prediction = model.predict(tf.expand_dims(image_batch[0], axis=0))\n",
        "    predicted_label = \"Dog\" if prediction[0][0] > 0.5 else \"Cat\"\n",
        "\n",
        "    plt.imshow(img)\n",
        "    plt.title(f\"Predicted: {predicted_label}, Actual: {'Dog' if true_label else 'Cat'}\")\n",
        "    plt.axis(\"off\")\n",
        "    plt.show()\n",
        "\n",
        "# Show a random predicted image\n",
        "show_prediction()\n"
      ],
      "metadata": {
        "colab": {
          "base_uri": "https://localhost:8080/"
        },
        "id": "T8qkIg0KbLaB",
        "outputId": "a981a42b-51c3-406d-f39f-99f29765c80e"
      },
      "execution_count": null,
      "outputs": [
        {
          "output_type": "stream",
          "name": "stdout",
          "text": [
            "Epoch 1/5\n"
          ]
        }
      ]
    },
    {
      "cell_type": "code",
      "source": [
        "import tensorflow as tf\n",
        "import tensorflow_datasets as tfds\n",
        "import numpy as np\n",
        "import matplotlib.pyplot as plt\n",
        "\n",
        "# Load dataset from TensorFlow Datasets (No manual download required)\n",
        "dataset_name = \"cats_vs_dogs\"\n",
        "dataset, info = tfds.load(dataset_name, as_supervised=True, with_info=True)\n",
        "\n",
        "# Shuffle dataset and split into training and validation sets\n",
        "BUFFER_SIZE = 25000\n",
        "BATCH_SIZE = 32\n",
        "train_data = dataset['train'].shuffle(BUFFER_SIZE).take(20000)  # First 20,000 for training\n",
        "val_data = dataset['train'].shuffle(BUFFER_SIZE).skip(20000).take(5000)  # Next 5,000 for validation\n",
        "\n",
        "# Function to preprocess images (resize, normalize)\n",
        "def preprocess(image, label):\n",
        "    image = tf.image.resize(image, (224, 224))  # Resize to VGG16 expected size\n",
        "    image = image / 255.0  # Normalize to [0,1]\n",
        "    return image, label\n",
        "\n",
        "# Apply preprocessing and batching\n",
        "train_data = train_data.map(preprocess).batch(BATCH_SIZE).shuffle(1000)\n",
        "val_data = val_data.map(preprocess).batch(BATCH_SIZE)\n",
        "\n",
        "# Load Pre-trained VGG16 Model (without top layers)\n",
        "base_model = tf.keras.applications.VGG16(input_shape=(224, 224, 3),\n",
        "                                         include_top=False, weights='imagenet')\n",
        "\n",
        "# Freeze the base model (so pre-trained weights are not changed)\n",
        "base_model.trainable = False\n",
        "\n",
        "# Add custom classifier on top\n",
        "model = tf.keras.Sequential([\n",
        "    base_model,\n",
        "    tf.keras.layers.GlobalAveragePooling2D(),  # Use GlobalAveragePooling2D instead of Flatten\n",
        "    tf.keras.layers.Dense(256, activation='relu'),\n",
        "    tf.keras.layers.Dropout(0.5),\n",
        "    tf.keras.layers.Dense(1, activation='sigmoid')  # Binary classification\n",
        "])\n",
        "\n",
        "# Compile Model\n",
        "model.compile(optimizer='adam', loss='binary_crossentropy', metrics=['accuracy'])\n",
        "\n",
        "# Train Model\n",
        "history = model.fit(train_data, validation_data=val_data, epochs=5)\n",
        "\n",
        "# Evaluate Model\n",
        "loss, acc = model.evaluate(val_data)\n",
        "print(f\"\\nValidation Accuracy: {acc * 100:.2f}%\")\n",
        "\n",
        "# Function to display a predicted image\n",
        "def show_prediction():\n",
        "    image_batch, label_batch = next(iter(val_data))  # Get a batch\n",
        "    img = image_batch[0].numpy()  # Convert tensor to numpy array\n",
        "    true_label = label_batch[0].numpy()\n",
        "\n",
        "    prediction = model.predict(tf.expand_dims(image_batch[0], axis=0))\n",
        "    predicted_label = \"Dog\" if prediction[0][0] > 0.5 else \"Cat\"\n",
        "\n",
        "    plt.imshow(img)\n",
        "    plt.title(f\"Predicted: {predicted_label}, Actual: {'Dog' if true_label else 'Cat'}\")\n",
        "    plt.axis(\"off\")\n",
        "    plt.show()\n",
        "\n",
        "# Show a random predicted image\n",
        "show_prediction()"
      ],
      "metadata": {
        "colab": {
          "base_uri": "https://localhost:8080/"
        },
        "id": "G2fyn1Q0cKu6",
        "outputId": "d7e4860d-4800-4a19-d037-65f96983a94b"
      },
      "execution_count": null,
      "outputs": [
        {
          "output_type": "stream",
          "name": "stdout",
          "text": [
            "Epoch 1/5\n"
          ]
        }
      ]
    },
    {
      "cell_type": "code",
      "source": [
        "from tensorflow.keras.preprocessing.text import one_hot\n",
        "\n",
        "# Define the list of words\n",
        "words = ['apple', 'banana', 'cherry', 'apple', 'cherry', 'banana', 'apple']\n",
        "\n",
        "\n",
        "# Create a vocabulary of unique words\n",
        "vocab = set(words)\n",
        "\n",
        "# Assign a unique integer to each word in the vocabulary\n",
        "word_to_int = {word: i for i, word in enumerate(vocab)}\n",
        "\n",
        "# Convert the list of words to a list of integers using the vocabulary\n",
        "int_words = [word_to_int[word] for word in words] # Fixed: Removed the extra space before int_words\n",
        "\n",
        "\n",
        "\n",
        "# Perform one-hot encoding of the integer sequence\n",
        "one_hot_words = []\n",
        "for int_word in int_words:\n",
        "  one_hot_word = [0] * len(vocab)\n",
        "  one_hot_word[int_word] = 1\n",
        "  one_hot_words.append(one_hot_word)\n",
        "print(one_hot_words)\n",
        "\n",
        "#program 2:\n",
        "\n",
        "import string\n",
        "\n",
        "\n",
        "# Define the input string\n",
        "input_string = 'hello world'\n",
        "\n",
        "# Create a vocabulary of unique characters\n",
        "vocab = set(input_string)\n",
        "\n",
        "# Assign a unique integer to each character in the vocabulary\n",
        "char_to_int = {char: i for i, char in enumerate(vocab)}\n",
        "\n",
        "# Convert the input string to a list of integers using the vocabulary\n",
        "int_chars = [char_to_int[char] for char in input_string]\n",
        "\n",
        "# Perform one-hot encoding of the integer sequence\n",
        "one_hot_chars = []\n",
        "for int_char in int_chars:\n",
        "   one_hot_char = [0] * len(vocab)\n",
        "   one_hot_char[int_char] = 1\n",
        "   one_hot_chars.append(one_hot_char)\n",
        "print(one_hot_chars)"
      ],
      "metadata": {
        "colab": {
          "base_uri": "https://localhost:8080/"
        },
        "id": "yHNPAfdVadij",
        "outputId": "d318f026-f441-4cb0-955d-bcf349fdd69c"
      },
      "execution_count": 9,
      "outputs": [
        {
          "output_type": "stream",
          "name": "stdout",
          "text": [
            "[[0, 0, 1], [0, 1, 0], [1, 0, 0], [0, 0, 1], [1, 0, 0], [0, 1, 0], [0, 0, 1]]\n",
            "[[0, 0, 0, 1, 0, 0, 0, 0], [0, 1, 0, 0, 0, 0, 0, 0], [1, 0, 0, 0, 0, 0, 0, 0], [1, 0, 0, 0, 0, 0, 0, 0], [0, 0, 0, 0, 0, 0, 0, 1], [0, 0, 0, 0, 1, 0, 0, 0], [0, 0, 0, 0, 0, 1, 0, 0], [0, 0, 0, 0, 0, 0, 0, 1], [0, 0, 1, 0, 0, 0, 0, 0], [1, 0, 0, 0, 0, 0, 0, 0], [0, 0, 0, 0, 0, 0, 1, 0]]\n"
          ]
        }
      ]
    }
  ]
}